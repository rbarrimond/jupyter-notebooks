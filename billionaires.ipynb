{
 "cells": [
  {
   "cell_type": "markdown",
   "metadata": {},
   "source": [
    "# The Billionaire Problem\n",
    "\n",
    "In recent years, billionaires have gone from objects of admiration to outright villians in certain political and social circles. The (over?)simplified idea is that we have \"a billionaire problem\" in our society, i.e. they are a sign of massive income/wealth inequality and a failure of capitalism to provide general prosperity. Is this true? This notebook tries to interrogate that question."
   ]
  },
  {
   "cell_type": "markdown",
   "metadata": {},
   "source": []
  }
 ],
 "metadata": {
  "language_info": {
   "name": "python"
  },
  "orig_nbformat": 4
 },
 "nbformat": 4,
 "nbformat_minor": 2
}
