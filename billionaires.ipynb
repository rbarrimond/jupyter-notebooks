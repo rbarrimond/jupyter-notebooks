{
 "cells": [
  {
   "cell_type": "markdown",
   "metadata": {
    "tags": []
   },
   "source": [
    "# The Billionaire Problem\n",
    "\n",
    "In recent years, billionaires have gone from objects of admiration to outright villians in certain political and social circles. The (over?)simplified idea is that we have \"a billionaire problem\" in our society, i.e. they are a sign of massive income/wealth inequality and a failure of capitalism to provide general prosperity. Is this true? This notebook interrogates that question.\n",
    "\n"
   ]
  },
  {
   "cell_type": "code",
   "execution_count": 13,
   "metadata": {},
   "outputs": [],
   "source": [
    "# Import the necessary modules for this notebook\n",
    "\n",
    "from pprint import pprint\n",
    "\n",
    "import pandas as pd\n",
    "from bs4 import BeautifulSoup\n",
    "import requests\n",
    "import seaborn as sns\n",
    "import matplotlib.pyplot as plt\n"
   ]
  },
  {
   "cell_type": "markdown",
   "metadata": {},
   "source": [
    "## Billionaires vs. Unions\n",
    "\n",
    "> *Billionaires don't make money. They take money.*\n",
    ">\n",
    "> — Alexandria Ocasio-Cortez\n",
    "\n",
    "The explanation AOC offered to support statement is that billionaires have made their wealth largely by suppressing wages. In short, they are able to *take* more than their fair share of revenues, inflate their profits, thus building their net worth unfairly. (It is out of scope of this notebook to examine why this analysis of how labor markets work is problematic. I'm limiting the discussion only to the wages question.) \n",
    "\n",
    "Taking this explanation seriously, a reasonable hypothesis would be that where collective agreement coverage is low, wages are suppressed because workers lack the union power to offset the power of billionaires to set wages to their liking. So collective agreement coverage or union representation is a key variable to analyze. Collective agreement coverage refers to the proportion of people in a country's population whose terms and conditions at work are made by collective bargaining, between an employer and a trade union, rather than by individual contracts.[^1]\n",
    "\n",
    "Let's see if the data bear some of this out. We turn to the Wikipedia page on [Collective Agreement Coverage](https://en.wikipedia.org/wiki/Collective_agreement_coverage) to extract the data."
   ]
  },
  {
   "cell_type": "code",
   "execution_count": 14,
   "metadata": {},
   "outputs": [
    {
     "data": {
      "text/plain": [
       "['<tr>\\n<th>Country</th>\\n<th>Coverage (%)</th>\\n<th>Year\\n</th></tr>',\n",
       " '<tr>\\n<td><span class=\"flagicon\"><span class=\"mw-image-border\" typeof=\"mw:File\"><span><img alt=\"\" class=\"mw-file-element\" data-file-height=\"640\" data-file-width=\"1280\" decoding=\"async\" height=\"12\" src=\"//upload.wikimedia.org/wikipedia/commons/thumb/8/88/Flag_of_Australia_%28converted%29.svg/40px-Flag_of_Australia_%28converted%29.svg.png\" srcset=\"//upload.wikimedia.org/wikipedia/commons/thumb/8/88/Flag_of_Australia_%28converted%29.svg/60px-Flag_of_Australia_%28converted%29.svg.png 2x\" width=\"23\"/></span></span>\\xa0</span><a href=\"/wiki/Australia\" title=\"Australia\">Australia</a></td>\\n<td>61.2</td>\\n<td>2018\\n</td></tr>',\n",
       " '<tr>\\n<td><span class=\"flagicon\"><span class=\"mw-image-border\" typeof=\"mw:File\"><span><img alt=\"\" class=\"mw-file-element\" data-file-height=\"600\" data-file-width=\"900\" decoding=\"async\" height=\"15\" src=\"//upload.wikimedia.org/wikipedia/commons/thumb/4/41/Flag_of_Austria.svg/23px-Flag_of_Austria.svg.png\" srcset=\"//upload.wikimedia.org/wikipedia/commons/thumb/4/41/Flag_of_Austria.svg/35px-Flag_of_Austria.svg.png 1.5x, //upload.wikimedia.org/wikipedia/commons/thumb/4/41/Flag_of_Austria.svg/45px-Flag_of_Austria.svg.png 2x\" width=\"23\"/></span></span>\\xa0</span><a href=\"/wiki/Austria\" title=\"Austria\">Austria</a></td>\\n<td>98.0</td>\\n<td>2019\\n</td></tr>',\n",
       " '<tr>\\n<td><span class=\"flagicon\"><span class=\"mw-image-border\" typeof=\"mw:File\"><span><img alt=\"\" class=\"mw-file-element\" data-file-height=\"600\" data-file-width=\"900\" decoding=\"async\" height=\"15\" src=\"//upload.wikimedia.org/wikipedia/commons/thumb/9/92/Flag_of_Belgium_%28civil%29.svg/40px-Flag_of_Belgium_%28civil%29.svg.png\" srcset=\"//upload.wikimedia.org/wikipedia/commons/thumb/9/92/Flag_of_Belgium_%28civil%29.svg/60px-Flag_of_Belgium_%28civil%29.svg.png 2x\" width=\"23\"/></span></span>\\xa0</span><a href=\"/wiki/Belgium\" title=\"Belgium\">Belgium</a></td>\\n<td>96.0</td>\\n<td>2019\\n</td></tr>',\n",
       " '<tr>\\n<td><span class=\"flagicon\"><span class=\"mw-image-border\" typeof=\"mw:File\"><span><img alt=\"\" class=\"mw-file-element\" data-file-height=\"600\" data-file-width=\"1200\" decoding=\"async\" height=\"12\" src=\"//upload.wikimedia.org/wikipedia/commons/thumb/d/d9/Flag_of_Canada_%28Pantone%29.svg/23px-Flag_of_Canada_%28Pantone%29.svg.png\" srcset=\"//upload.wikimedia.org/wikipedia/commons/thumb/d/d9/Flag_of_Canada_%28Pantone%29.svg/35px-Flag_of_Canada_%28Pantone%29.svg.png 1.5x, //upload.wikimedia.org/wikipedia/commons/thumb/d/d9/Flag_of_Canada_%28Pantone%29.svg/46px-Flag_of_Canada_%28Pantone%29.svg.png 2x\" width=\"23\"/></span></span>\\xa0</span><a href=\"/wiki/Canada\" title=\"Canada\">Canada</a></td>\\n<td>31.3</td>\\n<td>2020\\n</td></tr>']"
      ]
     },
     "execution_count": 14,
     "metadata": {},
     "output_type": "execute_result"
    }
   ],
   "source": [
    "# Parse the Collective Agreement Coverage page\n",
    "with requests.get(\"https://en.wikipedia.org/wiki/Collective_agreement_coverage\") as response:\n",
    "    soup = BeautifulSoup(response.content, \"html.parser\")\n",
    "\n",
    "# Find the table with the data we want\n",
    "cac_table = soup.find(string='Collective bargaining coverage in OECD countries').find_parent('table')\n",
    "\n",
    "# Extract the rows of the table as a list of strings\n",
    "rows = [str(row) for row in cac_table.find_all('tr')[:5]]  # Adjust the number 5 to see more or fewer rows\n",
    "rows"
   ]
  },
  {
   "cell_type": "code",
   "execution_count": 15,
   "metadata": {},
   "outputs": [
    {
     "data": {
      "application/vnd.microsoft.datawrangler.viewer.v0+json": {
       "columns": [
        {
         "name": "index",
         "rawType": "int64",
         "type": "integer"
        },
        {
         "name": "Country",
         "rawType": "object",
         "type": "string"
        },
        {
         "name": "Coverage (%)",
         "rawType": "float64",
         "type": "float"
        },
        {
         "name": "Year",
         "rawType": "int64",
         "type": "integer"
        }
       ],
       "conversionMethod": "pd.DataFrame",
       "ref": "46e4c105-fa1a-482f-8b1e-268d8e0d7274",
       "rows": [
        [
         "0",
         "Australia",
         "61.2",
         "2018"
        ],
        [
         "1",
         "Austria",
         "98.0",
         "2019"
        ],
        [
         "2",
         "Belgium",
         "96.0",
         "2019"
        ],
        [
         "3",
         "Canada",
         "31.3",
         "2020"
        ],
        [
         "4",
         "Chile",
         "20.4",
         "2018"
        ],
        [
         "5",
         "Colombia",
         "15.7",
         "2016"
        ],
        [
         "6",
         "Czech Republic",
         "34.7",
         "2019"
        ],
        [
         "7",
         "Denmark",
         "82.0",
         "2018"
        ],
        [
         "8",
         "Estonia",
         "19.1",
         "2021"
        ],
        [
         "9",
         "Finland",
         "88.8",
         "2017"
        ],
        [
         "10",
         "France",
         "98.0",
         "2018"
        ],
        [
         "11",
         "Germany",
         "54.0",
         "2018"
        ],
        [
         "12",
         "Greece",
         "14.2",
         "2017"
        ],
        [
         "13",
         "Hungary",
         "21.8",
         "2019"
        ],
        [
         "14",
         "Iceland",
         "90.0",
         "2019"
        ],
        [
         "15",
         "Ireland",
         "34.0",
         "2017"
        ],
        [
         "16",
         "Israel",
         "26.1",
         "2012"
        ],
        [
         "17",
         "Italy",
         "100.0",
         "2019"
        ],
        [
         "18",
         "Japan",
         "16.8",
         "2019"
        ],
        [
         "19",
         "South Korea",
         "14.8",
         "2018"
        ],
        [
         "20",
         "Lithuania",
         "26.6",
         "2021"
        ],
        [
         "21",
         "Latvia",
         "27.1",
         "2018"
        ],
        [
         "22",
         "Luxembourg",
         "56.9",
         "2018"
        ],
        [
         "23",
         "Mexico",
         "10.4",
         "2019"
        ],
        [
         "24",
         "Netherlands",
         "75.6",
         "2019"
        ],
        [
         "25",
         "New Zealand",
         "18.6",
         "2020"
        ],
        [
         "26",
         "Norway",
         "69.0",
         "2017"
        ],
        [
         "27",
         "Poland",
         "13.4",
         "2019"
        ],
        [
         "28",
         "Portugal",
         "77.2",
         "2021"
        ],
        [
         "29",
         "Slovak Republic",
         "24.4",
         "2015"
        ],
        [
         "30",
         "Slovenia",
         "78.6",
         "2017"
        ],
        [
         "31",
         "Spain",
         "80.1",
         "2018"
        ],
        [
         "32",
         "Sweden",
         "88.0",
         "2018"
        ],
        [
         "33",
         "Switzerland",
         "45.0",
         "2018"
        ],
        [
         "34",
         "Turkey",
         "8.5",
         "2019"
        ],
        [
         "35",
         "United Kingdom",
         "26.9",
         "2019"
        ],
        [
         "36",
         "United States",
         "12.1",
         "2020"
        ],
        [
         "37",
         "OECD average[a]",
         "32.1",
         "2019"
        ],
        [
         "38",
         "Costa Rica[b]",
         "10.3",
         "2019"
        ]
       ],
       "shape": {
        "columns": 3,
        "rows": 39
       }
      },
      "text/html": [
       "<div>\n",
       "<style scoped>\n",
       "    .dataframe tbody tr th:only-of-type {\n",
       "        vertical-align: middle;\n",
       "    }\n",
       "\n",
       "    .dataframe tbody tr th {\n",
       "        vertical-align: top;\n",
       "    }\n",
       "\n",
       "    .dataframe thead th {\n",
       "        text-align: right;\n",
       "    }\n",
       "</style>\n",
       "<table border=\"1\" class=\"dataframe\">\n",
       "  <thead>\n",
       "    <tr style=\"text-align: right;\">\n",
       "      <th></th>\n",
       "      <th>Country</th>\n",
       "      <th>Coverage (%)</th>\n",
       "      <th>Year</th>\n",
       "    </tr>\n",
       "  </thead>\n",
       "  <tbody>\n",
       "    <tr>\n",
       "      <th>0</th>\n",
       "      <td>Australia</td>\n",
       "      <td>61.2</td>\n",
       "      <td>2018</td>\n",
       "    </tr>\n",
       "    <tr>\n",
       "      <th>1</th>\n",
       "      <td>Austria</td>\n",
       "      <td>98.0</td>\n",
       "      <td>2019</td>\n",
       "    </tr>\n",
       "    <tr>\n",
       "      <th>2</th>\n",
       "      <td>Belgium</td>\n",
       "      <td>96.0</td>\n",
       "      <td>2019</td>\n",
       "    </tr>\n",
       "    <tr>\n",
       "      <th>3</th>\n",
       "      <td>Canada</td>\n",
       "      <td>31.3</td>\n",
       "      <td>2020</td>\n",
       "    </tr>\n",
       "    <tr>\n",
       "      <th>4</th>\n",
       "      <td>Chile</td>\n",
       "      <td>20.4</td>\n",
       "      <td>2018</td>\n",
       "    </tr>\n",
       "    <tr>\n",
       "      <th>5</th>\n",
       "      <td>Colombia</td>\n",
       "      <td>15.7</td>\n",
       "      <td>2016</td>\n",
       "    </tr>\n",
       "    <tr>\n",
       "      <th>6</th>\n",
       "      <td>Czech Republic</td>\n",
       "      <td>34.7</td>\n",
       "      <td>2019</td>\n",
       "    </tr>\n",
       "    <tr>\n",
       "      <th>7</th>\n",
       "      <td>Denmark</td>\n",
       "      <td>82.0</td>\n",
       "      <td>2018</td>\n",
       "    </tr>\n",
       "    <tr>\n",
       "      <th>8</th>\n",
       "      <td>Estonia</td>\n",
       "      <td>19.1</td>\n",
       "      <td>2021</td>\n",
       "    </tr>\n",
       "    <tr>\n",
       "      <th>9</th>\n",
       "      <td>Finland</td>\n",
       "      <td>88.8</td>\n",
       "      <td>2017</td>\n",
       "    </tr>\n",
       "    <tr>\n",
       "      <th>10</th>\n",
       "      <td>France</td>\n",
       "      <td>98.0</td>\n",
       "      <td>2018</td>\n",
       "    </tr>\n",
       "    <tr>\n",
       "      <th>11</th>\n",
       "      <td>Germany</td>\n",
       "      <td>54.0</td>\n",
       "      <td>2018</td>\n",
       "    </tr>\n",
       "    <tr>\n",
       "      <th>12</th>\n",
       "      <td>Greece</td>\n",
       "      <td>14.2</td>\n",
       "      <td>2017</td>\n",
       "    </tr>\n",
       "    <tr>\n",
       "      <th>13</th>\n",
       "      <td>Hungary</td>\n",
       "      <td>21.8</td>\n",
       "      <td>2019</td>\n",
       "    </tr>\n",
       "    <tr>\n",
       "      <th>14</th>\n",
       "      <td>Iceland</td>\n",
       "      <td>90.0</td>\n",
       "      <td>2019</td>\n",
       "    </tr>\n",
       "    <tr>\n",
       "      <th>15</th>\n",
       "      <td>Ireland</td>\n",
       "      <td>34.0</td>\n",
       "      <td>2017</td>\n",
       "    </tr>\n",
       "    <tr>\n",
       "      <th>16</th>\n",
       "      <td>Israel</td>\n",
       "      <td>26.1</td>\n",
       "      <td>2012</td>\n",
       "    </tr>\n",
       "    <tr>\n",
       "      <th>17</th>\n",
       "      <td>Italy</td>\n",
       "      <td>100.0</td>\n",
       "      <td>2019</td>\n",
       "    </tr>\n",
       "    <tr>\n",
       "      <th>18</th>\n",
       "      <td>Japan</td>\n",
       "      <td>16.8</td>\n",
       "      <td>2019</td>\n",
       "    </tr>\n",
       "    <tr>\n",
       "      <th>19</th>\n",
       "      <td>South Korea</td>\n",
       "      <td>14.8</td>\n",
       "      <td>2018</td>\n",
       "    </tr>\n",
       "    <tr>\n",
       "      <th>20</th>\n",
       "      <td>Lithuania</td>\n",
       "      <td>26.6</td>\n",
       "      <td>2021</td>\n",
       "    </tr>\n",
       "    <tr>\n",
       "      <th>21</th>\n",
       "      <td>Latvia</td>\n",
       "      <td>27.1</td>\n",
       "      <td>2018</td>\n",
       "    </tr>\n",
       "    <tr>\n",
       "      <th>22</th>\n",
       "      <td>Luxembourg</td>\n",
       "      <td>56.9</td>\n",
       "      <td>2018</td>\n",
       "    </tr>\n",
       "    <tr>\n",
       "      <th>23</th>\n",
       "      <td>Mexico</td>\n",
       "      <td>10.4</td>\n",
       "      <td>2019</td>\n",
       "    </tr>\n",
       "    <tr>\n",
       "      <th>24</th>\n",
       "      <td>Netherlands</td>\n",
       "      <td>75.6</td>\n",
       "      <td>2019</td>\n",
       "    </tr>\n",
       "    <tr>\n",
       "      <th>25</th>\n",
       "      <td>New Zealand</td>\n",
       "      <td>18.6</td>\n",
       "      <td>2020</td>\n",
       "    </tr>\n",
       "    <tr>\n",
       "      <th>26</th>\n",
       "      <td>Norway</td>\n",
       "      <td>69.0</td>\n",
       "      <td>2017</td>\n",
       "    </tr>\n",
       "    <tr>\n",
       "      <th>27</th>\n",
       "      <td>Poland</td>\n",
       "      <td>13.4</td>\n",
       "      <td>2019</td>\n",
       "    </tr>\n",
       "    <tr>\n",
       "      <th>28</th>\n",
       "      <td>Portugal</td>\n",
       "      <td>77.2</td>\n",
       "      <td>2021</td>\n",
       "    </tr>\n",
       "    <tr>\n",
       "      <th>29</th>\n",
       "      <td>Slovak Republic</td>\n",
       "      <td>24.4</td>\n",
       "      <td>2015</td>\n",
       "    </tr>\n",
       "    <tr>\n",
       "      <th>30</th>\n",
       "      <td>Slovenia</td>\n",
       "      <td>78.6</td>\n",
       "      <td>2017</td>\n",
       "    </tr>\n",
       "    <tr>\n",
       "      <th>31</th>\n",
       "      <td>Spain</td>\n",
       "      <td>80.1</td>\n",
       "      <td>2018</td>\n",
       "    </tr>\n",
       "    <tr>\n",
       "      <th>32</th>\n",
       "      <td>Sweden</td>\n",
       "      <td>88.0</td>\n",
       "      <td>2018</td>\n",
       "    </tr>\n",
       "    <tr>\n",
       "      <th>33</th>\n",
       "      <td>Switzerland</td>\n",
       "      <td>45.0</td>\n",
       "      <td>2018</td>\n",
       "    </tr>\n",
       "    <tr>\n",
       "      <th>34</th>\n",
       "      <td>Turkey</td>\n",
       "      <td>8.5</td>\n",
       "      <td>2019</td>\n",
       "    </tr>\n",
       "    <tr>\n",
       "      <th>35</th>\n",
       "      <td>United Kingdom</td>\n",
       "      <td>26.9</td>\n",
       "      <td>2019</td>\n",
       "    </tr>\n",
       "    <tr>\n",
       "      <th>36</th>\n",
       "      <td>United States</td>\n",
       "      <td>12.1</td>\n",
       "      <td>2020</td>\n",
       "    </tr>\n",
       "    <tr>\n",
       "      <th>37</th>\n",
       "      <td>OECD average[a]</td>\n",
       "      <td>32.1</td>\n",
       "      <td>2019</td>\n",
       "    </tr>\n",
       "    <tr>\n",
       "      <th>38</th>\n",
       "      <td>Costa Rica[b]</td>\n",
       "      <td>10.3</td>\n",
       "      <td>2019</td>\n",
       "    </tr>\n",
       "  </tbody>\n",
       "</table>\n",
       "</div>"
      ],
      "text/plain": [
       "            Country  Coverage (%)  Year\n",
       "0         Australia          61.2  2018\n",
       "1           Austria          98.0  2019\n",
       "2           Belgium          96.0  2019\n",
       "3            Canada          31.3  2020\n",
       "4             Chile          20.4  2018\n",
       "5          Colombia          15.7  2016\n",
       "6    Czech Republic          34.7  2019\n",
       "7           Denmark          82.0  2018\n",
       "8           Estonia          19.1  2021\n",
       "9           Finland          88.8  2017\n",
       "10           France          98.0  2018\n",
       "11          Germany          54.0  2018\n",
       "12           Greece          14.2  2017\n",
       "13          Hungary          21.8  2019\n",
       "14          Iceland          90.0  2019\n",
       "15          Ireland          34.0  2017\n",
       "16           Israel          26.1  2012\n",
       "17            Italy         100.0  2019\n",
       "18            Japan          16.8  2019\n",
       "19      South Korea          14.8  2018\n",
       "20        Lithuania          26.6  2021\n",
       "21           Latvia          27.1  2018\n",
       "22       Luxembourg          56.9  2018\n",
       "23           Mexico          10.4  2019\n",
       "24      Netherlands          75.6  2019\n",
       "25      New Zealand          18.6  2020\n",
       "26           Norway          69.0  2017\n",
       "27           Poland          13.4  2019\n",
       "28         Portugal          77.2  2021\n",
       "29  Slovak Republic          24.4  2015\n",
       "30         Slovenia          78.6  2017\n",
       "31            Spain          80.1  2018\n",
       "32           Sweden          88.0  2018\n",
       "33      Switzerland          45.0  2018\n",
       "34           Turkey           8.5  2019\n",
       "35   United Kingdom          26.9  2019\n",
       "36    United States          12.1  2020\n",
       "37  OECD average[a]          32.1  2019\n",
       "38    Costa Rica[b]          10.3  2019"
      ]
     },
     "execution_count": 15,
     "metadata": {},
     "output_type": "execute_result"
    }
   ],
   "source": [
    "# Create dataframe from the table\n",
    "cac_df = pd.concat(pd.read_html(str(cac_table), flavor=\"bs4\"))\n",
    "cac_df"
   ]
  },
  {
   "cell_type": "code",
   "execution_count": 16,
   "metadata": {},
   "outputs": [
    {
     "data": {
      "application/vnd.microsoft.datawrangler.viewer.v0+json": {
       "columns": [
        {
         "name": "Country",
         "rawType": "object",
         "type": "string"
        },
        {
         "name": "Coverage (%)",
         "rawType": "float64",
         "type": "float"
        },
        {
         "name": "Year",
         "rawType": "int64",
         "type": "integer"
        }
       ],
       "conversionMethod": "pd.DataFrame",
       "ref": "ea57a2d0-96fd-4059-b405-66cee0385148",
       "rows": [
        [
         "Italy",
         "100.0",
         "2019"
        ],
        [
         "Austria",
         "98.0",
         "2019"
        ],
        [
         "France",
         "98.0",
         "2018"
        ],
        [
         "Belgium",
         "96.0",
         "2019"
        ],
        [
         "Iceland",
         "90.0",
         "2019"
        ],
        [
         "Finland",
         "88.8",
         "2017"
        ],
        [
         "Sweden",
         "88.0",
         "2018"
        ],
        [
         "Denmark",
         "82.0",
         "2018"
        ],
        [
         "Spain",
         "80.1",
         "2018"
        ],
        [
         "Slovenia",
         "78.6",
         "2017"
        ],
        [
         "Portugal",
         "77.2",
         "2021"
        ],
        [
         "Netherlands",
         "75.6",
         "2019"
        ],
        [
         "Norway",
         "69.0",
         "2017"
        ],
        [
         "Australia",
         "61.2",
         "2018"
        ],
        [
         "Luxembourg",
         "56.9",
         "2018"
        ],
        [
         "Germany",
         "54.0",
         "2018"
        ],
        [
         "Switzerland",
         "45.0",
         "2018"
        ],
        [
         "Czech Republic",
         "34.7",
         "2019"
        ],
        [
         "Ireland",
         "34.0",
         "2017"
        ],
        [
         "Canada",
         "31.3",
         "2020"
        ],
        [
         "Latvia",
         "27.1",
         "2018"
        ],
        [
         "United Kingdom",
         "26.9",
         "2019"
        ],
        [
         "Lithuania",
         "26.6",
         "2021"
        ],
        [
         "Israel",
         "26.1",
         "2012"
        ],
        [
         "Slovak Republic",
         "24.4",
         "2015"
        ],
        [
         "Hungary",
         "21.8",
         "2019"
        ],
        [
         "Chile",
         "20.4",
         "2018"
        ],
        [
         "Estonia",
         "19.1",
         "2021"
        ],
        [
         "New Zealand",
         "18.6",
         "2020"
        ],
        [
         "Japan",
         "16.8",
         "2019"
        ],
        [
         "Colombia",
         "15.7",
         "2016"
        ],
        [
         "South Korea",
         "14.8",
         "2018"
        ],
        [
         "Greece",
         "14.2",
         "2017"
        ],
        [
         "Poland",
         "13.4",
         "2019"
        ],
        [
         "United States",
         "12.1",
         "2020"
        ],
        [
         "Mexico",
         "10.4",
         "2019"
        ],
        [
         "Costa Rica[b]",
         "10.3",
         "2019"
        ],
        [
         "Turkey",
         "8.5",
         "2019"
        ]
       ],
       "shape": {
        "columns": 2,
        "rows": 38
       }
      },
      "text/html": [
       "<div>\n",
       "<style scoped>\n",
       "    .dataframe tbody tr th:only-of-type {\n",
       "        vertical-align: middle;\n",
       "    }\n",
       "\n",
       "    .dataframe tbody tr th {\n",
       "        vertical-align: top;\n",
       "    }\n",
       "\n",
       "    .dataframe thead th {\n",
       "        text-align: right;\n",
       "    }\n",
       "</style>\n",
       "<table border=\"1\" class=\"dataframe\">\n",
       "  <thead>\n",
       "    <tr style=\"text-align: right;\">\n",
       "      <th></th>\n",
       "      <th>Coverage (%)</th>\n",
       "      <th>Year</th>\n",
       "    </tr>\n",
       "    <tr>\n",
       "      <th>Country</th>\n",
       "      <th></th>\n",
       "      <th></th>\n",
       "    </tr>\n",
       "  </thead>\n",
       "  <tbody>\n",
       "    <tr>\n",
       "      <th>Italy</th>\n",
       "      <td>100.0</td>\n",
       "      <td>2019</td>\n",
       "    </tr>\n",
       "    <tr>\n",
       "      <th>Austria</th>\n",
       "      <td>98.0</td>\n",
       "      <td>2019</td>\n",
       "    </tr>\n",
       "    <tr>\n",
       "      <th>France</th>\n",
       "      <td>98.0</td>\n",
       "      <td>2018</td>\n",
       "    </tr>\n",
       "    <tr>\n",
       "      <th>Belgium</th>\n",
       "      <td>96.0</td>\n",
       "      <td>2019</td>\n",
       "    </tr>\n",
       "    <tr>\n",
       "      <th>Iceland</th>\n",
       "      <td>90.0</td>\n",
       "      <td>2019</td>\n",
       "    </tr>\n",
       "    <tr>\n",
       "      <th>Finland</th>\n",
       "      <td>88.8</td>\n",
       "      <td>2017</td>\n",
       "    </tr>\n",
       "    <tr>\n",
       "      <th>Sweden</th>\n",
       "      <td>88.0</td>\n",
       "      <td>2018</td>\n",
       "    </tr>\n",
       "    <tr>\n",
       "      <th>Denmark</th>\n",
       "      <td>82.0</td>\n",
       "      <td>2018</td>\n",
       "    </tr>\n",
       "    <tr>\n",
       "      <th>Spain</th>\n",
       "      <td>80.1</td>\n",
       "      <td>2018</td>\n",
       "    </tr>\n",
       "    <tr>\n",
       "      <th>Slovenia</th>\n",
       "      <td>78.6</td>\n",
       "      <td>2017</td>\n",
       "    </tr>\n",
       "    <tr>\n",
       "      <th>Portugal</th>\n",
       "      <td>77.2</td>\n",
       "      <td>2021</td>\n",
       "    </tr>\n",
       "    <tr>\n",
       "      <th>Netherlands</th>\n",
       "      <td>75.6</td>\n",
       "      <td>2019</td>\n",
       "    </tr>\n",
       "    <tr>\n",
       "      <th>Norway</th>\n",
       "      <td>69.0</td>\n",
       "      <td>2017</td>\n",
       "    </tr>\n",
       "    <tr>\n",
       "      <th>Australia</th>\n",
       "      <td>61.2</td>\n",
       "      <td>2018</td>\n",
       "    </tr>\n",
       "    <tr>\n",
       "      <th>Luxembourg</th>\n",
       "      <td>56.9</td>\n",
       "      <td>2018</td>\n",
       "    </tr>\n",
       "    <tr>\n",
       "      <th>Germany</th>\n",
       "      <td>54.0</td>\n",
       "      <td>2018</td>\n",
       "    </tr>\n",
       "    <tr>\n",
       "      <th>Switzerland</th>\n",
       "      <td>45.0</td>\n",
       "      <td>2018</td>\n",
       "    </tr>\n",
       "    <tr>\n",
       "      <th>Czech Republic</th>\n",
       "      <td>34.7</td>\n",
       "      <td>2019</td>\n",
       "    </tr>\n",
       "    <tr>\n",
       "      <th>Ireland</th>\n",
       "      <td>34.0</td>\n",
       "      <td>2017</td>\n",
       "    </tr>\n",
       "    <tr>\n",
       "      <th>Canada</th>\n",
       "      <td>31.3</td>\n",
       "      <td>2020</td>\n",
       "    </tr>\n",
       "    <tr>\n",
       "      <th>Latvia</th>\n",
       "      <td>27.1</td>\n",
       "      <td>2018</td>\n",
       "    </tr>\n",
       "    <tr>\n",
       "      <th>United Kingdom</th>\n",
       "      <td>26.9</td>\n",
       "      <td>2019</td>\n",
       "    </tr>\n",
       "    <tr>\n",
       "      <th>Lithuania</th>\n",
       "      <td>26.6</td>\n",
       "      <td>2021</td>\n",
       "    </tr>\n",
       "    <tr>\n",
       "      <th>Israel</th>\n",
       "      <td>26.1</td>\n",
       "      <td>2012</td>\n",
       "    </tr>\n",
       "    <tr>\n",
       "      <th>Slovak Republic</th>\n",
       "      <td>24.4</td>\n",
       "      <td>2015</td>\n",
       "    </tr>\n",
       "    <tr>\n",
       "      <th>Hungary</th>\n",
       "      <td>21.8</td>\n",
       "      <td>2019</td>\n",
       "    </tr>\n",
       "    <tr>\n",
       "      <th>Chile</th>\n",
       "      <td>20.4</td>\n",
       "      <td>2018</td>\n",
       "    </tr>\n",
       "    <tr>\n",
       "      <th>Estonia</th>\n",
       "      <td>19.1</td>\n",
       "      <td>2021</td>\n",
       "    </tr>\n",
       "    <tr>\n",
       "      <th>New Zealand</th>\n",
       "      <td>18.6</td>\n",
       "      <td>2020</td>\n",
       "    </tr>\n",
       "    <tr>\n",
       "      <th>Japan</th>\n",
       "      <td>16.8</td>\n",
       "      <td>2019</td>\n",
       "    </tr>\n",
       "    <tr>\n",
       "      <th>Colombia</th>\n",
       "      <td>15.7</td>\n",
       "      <td>2016</td>\n",
       "    </tr>\n",
       "    <tr>\n",
       "      <th>South Korea</th>\n",
       "      <td>14.8</td>\n",
       "      <td>2018</td>\n",
       "    </tr>\n",
       "    <tr>\n",
       "      <th>Greece</th>\n",
       "      <td>14.2</td>\n",
       "      <td>2017</td>\n",
       "    </tr>\n",
       "    <tr>\n",
       "      <th>Poland</th>\n",
       "      <td>13.4</td>\n",
       "      <td>2019</td>\n",
       "    </tr>\n",
       "    <tr>\n",
       "      <th>United States</th>\n",
       "      <td>12.1</td>\n",
       "      <td>2020</td>\n",
       "    </tr>\n",
       "    <tr>\n",
       "      <th>Mexico</th>\n",
       "      <td>10.4</td>\n",
       "      <td>2019</td>\n",
       "    </tr>\n",
       "    <tr>\n",
       "      <th>Costa Rica[b]</th>\n",
       "      <td>10.3</td>\n",
       "      <td>2019</td>\n",
       "    </tr>\n",
       "    <tr>\n",
       "      <th>Turkey</th>\n",
       "      <td>8.5</td>\n",
       "      <td>2019</td>\n",
       "    </tr>\n",
       "  </tbody>\n",
       "</table>\n",
       "</div>"
      ],
      "text/plain": [
       "                 Coverage (%)  Year\n",
       "Country                            \n",
       "Italy                   100.0  2019\n",
       "Austria                  98.0  2019\n",
       "France                   98.0  2018\n",
       "Belgium                  96.0  2019\n",
       "Iceland                  90.0  2019\n",
       "Finland                  88.8  2017\n",
       "Sweden                   88.0  2018\n",
       "Denmark                  82.0  2018\n",
       "Spain                    80.1  2018\n",
       "Slovenia                 78.6  2017\n",
       "Portugal                 77.2  2021\n",
       "Netherlands              75.6  2019\n",
       "Norway                   69.0  2017\n",
       "Australia                61.2  2018\n",
       "Luxembourg               56.9  2018\n",
       "Germany                  54.0  2018\n",
       "Switzerland              45.0  2018\n",
       "Czech Republic           34.7  2019\n",
       "Ireland                  34.0  2017\n",
       "Canada                   31.3  2020\n",
       "Latvia                   27.1  2018\n",
       "United Kingdom           26.9  2019\n",
       "Lithuania                26.6  2021\n",
       "Israel                   26.1  2012\n",
       "Slovak Republic          24.4  2015\n",
       "Hungary                  21.8  2019\n",
       "Chile                    20.4  2018\n",
       "Estonia                  19.1  2021\n",
       "New Zealand              18.6  2020\n",
       "Japan                    16.8  2019\n",
       "Colombia                 15.7  2016\n",
       "South Korea              14.8  2018\n",
       "Greece                   14.2  2017\n",
       "Poland                   13.4  2019\n",
       "United States            12.1  2020\n",
       "Mexico                   10.4  2019\n",
       "Costa Rica[b]            10.3  2019\n",
       "Turkey                    8.5  2019"
      ]
     },
     "execution_count": 16,
     "metadata": {},
     "output_type": "execute_result"
    }
   ],
   "source": [
    "#\n",
    "# Cleanup the dataframe\n",
    "#\n",
    "\n",
    "# Remove the average\n",
    "cac_df.drop(cac_df[ cac_df.Country.str.contains('OECD average') ].index, inplace=True)\n",
    "\n",
    "# Index by country\n",
    "cac_df.set_index(\"Country\", inplace=True)\n",
    "\n",
    "# Sort the rows\n",
    "cac_df.sort_values(\"Coverage (%)\", ascending=False, inplace=True)\n",
    "\n",
    "cac_df "
   ]
  },
  {
   "cell_type": "code",
   "execution_count": 17,
   "metadata": {},
   "outputs": [
    {
     "data": {
      "text/plain": [
       "<AxesSubplot: xlabel='Coverage (%)', ylabel='Country'>"
      ]
     },
     "execution_count": 17,
     "metadata": {},
     "output_type": "execute_result"
    },
    {
     "data": {
      "image/png": "[encoded data removed]",
      "text/plain": [
       "<Figure size 1000x800 with 1 Axes>"
      ]
     },
     "metadata": {},
     "output_type": "display_data"
    }
   ],
   "source": [
    "# Visualize coverage by country\n",
    "plt.figure(figsize=(10,8))\n",
    "sns.barplot(data=cac_df, x=cac_df['Coverage (%)'], y=cac_df.index, orient=\"h\")"
   ]
  },
  {
   "cell_type": "markdown",
   "metadata": {},
   "source": [
    "### Unionization Data Issues\n",
    "As we can see from the summarized data in Wikipedia, the various coverage rates were *not* collected in the same year. An examination of [the original data](https://stats.oecd.org/Index.aspx?DataSetCode=CBC#) reveals that they were not consistently collected year after year. A solution to this problem is by making a simplifying assumption that unionization is relatively stable over the short term and classify countries into buckets of unionization to organize our data."
   ]
  },
  {
   "cell_type": "code",
   "execution_count": 18,
   "metadata": {},
   "outputs": [
    {
     "data": {
      "application/vnd.microsoft.datawrangler.viewer.v0+json": {
       "columns": [
        {
         "name": "Country",
         "rawType": "object",
         "type": "string"
        },
        {
         "name": "Coverage (%)",
         "rawType": "float64",
         "type": "float"
        },
        {
         "name": "Year",
         "rawType": "int64",
         "type": "integer"
        },
        {
         "name": "Unionization",
         "rawType": "category",
         "type": "unknown"
        }
       ],
       "conversionMethod": "pd.DataFrame",
       "ref": "d8df1657-8be7-4c75-8834-27b81c6a3891",
       "rows": [
        [
         "Italy",
         "100.0",
         "2019",
         "VERY STRONG"
        ],
        [
         "Austria",
         "98.0",
         "2019",
         "VERY STRONG"
        ],
        [
         "France",
         "98.0",
         "2018",
         "VERY STRONG"
        ],
        [
         "Belgium",
         "96.0",
         "2019",
         "VERY STRONG"
        ],
        [
         "Iceland",
         "90.0",
         "2019",
         "VERY STRONG"
        ],
        [
         "Finland",
         "88.8",
         "2017",
         "VERY STRONG"
        ],
        [
         "Sweden",
         "88.0",
         "2018",
         "VERY STRONG"
        ],
        [
         "Denmark",
         "82.0",
         "2018",
         "VERY STRONG"
        ],
        [
         "Spain",
         "80.1",
         "2018",
         "VERY STRONG"
        ],
        [
         "Slovenia",
         "78.6",
         "2017",
         "STRONG"
        ],
        [
         "Portugal",
         "77.2",
         "2021",
         "STRONG"
        ],
        [
         "Netherlands",
         "75.6",
         "2019",
         "STRONG"
        ],
        [
         "Norway",
         "69.0",
         "2017",
         "STRONG"
        ],
        [
         "Australia",
         "61.2",
         "2018",
         "STRONG"
        ],
        [
         "Luxembourg",
         "56.9",
         "2018",
         "NEUTRAL"
        ],
        [
         "Germany",
         "54.0",
         "2018",
         "NEUTRAL"
        ],
        [
         "Switzerland",
         "45.0",
         "2018",
         "NEUTRAL"
        ],
        [
         "Czech Republic",
         "34.7",
         "2019",
         "WEAK"
        ],
        [
         "Ireland",
         "34.0",
         "2017",
         "WEAK"
        ],
        [
         "Canada",
         "31.3",
         "2020",
         "WEAK"
        ],
        [
         "Latvia",
         "27.1",
         "2018",
         "WEAK"
        ],
        [
         "United Kingdom",
         "26.9",
         "2019",
         "WEAK"
        ],
        [
         "Lithuania",
         "26.6",
         "2021",
         "WEAK"
        ],
        [
         "Israel",
         "26.1",
         "2012",
         "WEAK"
        ],
        [
         "Slovak Republic",
         "24.4",
         "2015",
         "WEAK"
        ],
        [
         "Hungary",
         "21.8",
         "2019",
         "WEAK"
        ],
        [
         "Chile",
         "20.4",
         "2018",
         "WEAK"
        ],
        [
         "Estonia",
         "19.1",
         "2021",
         "VERY WEAK"
        ],
        [
         "New Zealand",
         "18.6",
         "2020",
         "VERY WEAK"
        ],
        [
         "Japan",
         "16.8",
         "2019",
         "VERY WEAK"
        ],
        [
         "Colombia",
         "15.7",
         "2016",
         "VERY WEAK"
        ],
        [
         "South Korea",
         "14.8",
         "2018",
         "VERY WEAK"
        ],
        [
         "Greece",
         "14.2",
         "2017",
         "VERY WEAK"
        ],
        [
         "Poland",
         "13.4",
         "2019",
         "VERY WEAK"
        ],
        [
         "United States",
         "12.1",
         "2020",
         "VERY WEAK"
        ],
        [
         "Mexico",
         "10.4",
         "2019",
         "VERY WEAK"
        ],
        [
         "Costa Rica[b]",
         "10.3",
         "2019",
         "VERY WEAK"
        ],
        [
         "Turkey",
         "8.5",
         "2019",
         "VERY WEAK"
        ]
       ],
       "shape": {
        "columns": 3,
        "rows": 38
       }
      },
      "text/html": [
       "<div>\n",
       "<style scoped>\n",
       "    .dataframe tbody tr th:only-of-type {\n",
       "        vertical-align: middle;\n",
       "    }\n",
       "\n",
       "    .dataframe tbody tr th {\n",
       "        vertical-align: top;\n",
       "    }\n",
       "\n",
       "    .dataframe thead th {\n",
       "        text-align: right;\n",
       "    }\n",
       "</style>\n",
       "<table border=\"1\" class=\"dataframe\">\n",
       "  <thead>\n",
       "    <tr style=\"text-align: right;\">\n",
       "      <th></th>\n",
       "      <th>Coverage (%)</th>\n",
       "      <th>Year</th>\n",
       "      <th>Unionization</th>\n",
       "    </tr>\n",
       "    <tr>\n",
       "      <th>Country</th>\n",
       "      <th></th>\n",
       "      <th></th>\n",
       "      <th></th>\n",
       "    </tr>\n",
       "  </thead>\n",
       "  <tbody>\n",
       "    <tr>\n",
       "      <th>Italy</th>\n",
       "      <td>100.0</td>\n",
       "      <td>2019</td>\n",
       "      <td>VERY STRONG</td>\n",
       "    </tr>\n",
       "    <tr>\n",
       "      <th>Austria</th>\n",
       "      <td>98.0</td>\n",
       "      <td>2019</td>\n",
       "      <td>VERY STRONG</td>\n",
       "    </tr>\n",
       "    <tr>\n",
       "      <th>France</th>\n",
       "      <td>98.0</td>\n",
       "      <td>2018</td>\n",
       "      <td>VERY STRONG</td>\n",
       "    </tr>\n",
       "    <tr>\n",
       "      <th>Belgium</th>\n",
       "      <td>96.0</td>\n",
       "      <td>2019</td>\n",
       "      <td>VERY STRONG</td>\n",
       "    </tr>\n",
       "    <tr>\n",
       "      <th>Iceland</th>\n",
       "      <td>90.0</td>\n",
       "      <td>2019</td>\n",
       "      <td>VERY STRONG</td>\n",
       "    </tr>\n",
       "    <tr>\n",
       "      <th>Finland</th>\n",
       "      <td>88.8</td>\n",
       "      <td>2017</td>\n",
       "      <td>VERY STRONG</td>\n",
       "    </tr>\n",
       "    <tr>\n",
       "      <th>Sweden</th>\n",
       "      <td>88.0</td>\n",
       "      <td>2018</td>\n",
       "      <td>VERY STRONG</td>\n",
       "    </tr>\n",
       "    <tr>\n",
       "      <th>Denmark</th>\n",
       "      <td>82.0</td>\n",
       "      <td>2018</td>\n",
       "      <td>VERY STRONG</td>\n",
       "    </tr>\n",
       "    <tr>\n",
       "      <th>Spain</th>\n",
       "      <td>80.1</td>\n",
       "      <td>2018</td>\n",
       "      <td>VERY STRONG</td>\n",
       "    </tr>\n",
       "    <tr>\n",
       "      <th>Slovenia</th>\n",
       "      <td>78.6</td>\n",
       "      <td>2017</td>\n",
       "      <td>STRONG</td>\n",
       "    </tr>\n",
       "    <tr>\n",
       "      <th>Portugal</th>\n",
       "      <td>77.2</td>\n",
       "      <td>2021</td>\n",
       "      <td>STRONG</td>\n",
       "    </tr>\n",
       "    <tr>\n",
       "      <th>Netherlands</th>\n",
       "      <td>75.6</td>\n",
       "      <td>2019</td>\n",
       "      <td>STRONG</td>\n",
       "    </tr>\n",
       "    <tr>\n",
       "      <th>Norway</th>\n",
       "      <td>69.0</td>\n",
       "      <td>2017</td>\n",
       "      <td>STRONG</td>\n",
       "    </tr>\n",
       "    <tr>\n",
       "      <th>Australia</th>\n",
       "      <td>61.2</td>\n",
       "      <td>2018</td>\n",
       "      <td>STRONG</td>\n",
       "    </tr>\n",
       "    <tr>\n",
       "      <th>Luxembourg</th>\n",
       "      <td>56.9</td>\n",
       "      <td>2018</td>\n",
       "      <td>NEUTRAL</td>\n",
       "    </tr>\n",
       "    <tr>\n",
       "      <th>Germany</th>\n",
       "      <td>54.0</td>\n",
       "      <td>2018</td>\n",
       "      <td>NEUTRAL</td>\n",
       "    </tr>\n",
       "    <tr>\n",
       "      <th>Switzerland</th>\n",
       "      <td>45.0</td>\n",
       "      <td>2018</td>\n",
       "      <td>NEUTRAL</td>\n",
       "    </tr>\n",
       "    <tr>\n",
       "      <th>Czech Republic</th>\n",
       "      <td>34.7</td>\n",
       "      <td>2019</td>\n",
       "      <td>WEAK</td>\n",
       "    </tr>\n",
       "    <tr>\n",
       "      <th>Ireland</th>\n",
       "      <td>34.0</td>\n",
       "      <td>2017</td>\n",
       "      <td>WEAK</td>\n",
       "    </tr>\n",
       "    <tr>\n",
       "      <th>Canada</th>\n",
       "      <td>31.3</td>\n",
       "      <td>2020</td>\n",
       "      <td>WEAK</td>\n",
       "    </tr>\n",
       "    <tr>\n",
       "      <th>Latvia</th>\n",
       "      <td>27.1</td>\n",
       "      <td>2018</td>\n",
       "      <td>WEAK</td>\n",
       "    </tr>\n",
       "    <tr>\n",
       "      <th>United Kingdom</th>\n",
       "      <td>26.9</td>\n",
       "      <td>2019</td>\n",
       "      <td>WEAK</td>\n",
       "    </tr>\n",
       "    <tr>\n",
       "      <th>Lithuania</th>\n",
       "      <td>26.6</td>\n",
       "      <td>2021</td>\n",
       "      <td>WEAK</td>\n",
       "    </tr>\n",
       "    <tr>\n",
       "      <th>Israel</th>\n",
       "      <td>26.1</td>\n",
       "      <td>2012</td>\n",
       "      <td>WEAK</td>\n",
       "    </tr>\n",
       "    <tr>\n",
       "      <th>Slovak Republic</th>\n",
       "      <td>24.4</td>\n",
       "      <td>2015</td>\n",
       "      <td>WEAK</td>\n",
       "    </tr>\n",
       "    <tr>\n",
       "      <th>Hungary</th>\n",
       "      <td>21.8</td>\n",
       "      <td>2019</td>\n",
       "      <td>WEAK</td>\n",
       "    </tr>\n",
       "    <tr>\n",
       "      <th>Chile</th>\n",
       "      <td>20.4</td>\n",
       "      <td>2018</td>\n",
       "      <td>WEAK</td>\n",
       "    </tr>\n",
       "    <tr>\n",
       "      <th>Estonia</th>\n",
       "      <td>19.1</td>\n",
       "      <td>2021</td>\n",
       "      <td>VERY WEAK</td>\n",
       "    </tr>\n",
       "    <tr>\n",
       "      <th>New Zealand</th>\n",
       "      <td>18.6</td>\n",
       "      <td>2020</td>\n",
       "      <td>VERY WEAK</td>\n",
       "    </tr>\n",
       "    <tr>\n",
       "      <th>Japan</th>\n",
       "      <td>16.8</td>\n",
       "      <td>2019</td>\n",
       "      <td>VERY WEAK</td>\n",
       "    </tr>\n",
       "    <tr>\n",
       "      <th>Colombia</th>\n",
       "      <td>15.7</td>\n",
       "      <td>2016</td>\n",
       "      <td>VERY WEAK</td>\n",
       "    </tr>\n",
       "    <tr>\n",
       "      <th>South Korea</th>\n",
       "      <td>14.8</td>\n",
       "      <td>2018</td>\n",
       "      <td>VERY WEAK</td>\n",
       "    </tr>\n",
       "    <tr>\n",
       "      <th>Greece</th>\n",
       "      <td>14.2</td>\n",
       "      <td>2017</td>\n",
       "      <td>VERY WEAK</td>\n",
       "    </tr>\n",
       "    <tr>\n",
       "      <th>Poland</th>\n",
       "      <td>13.4</td>\n",
       "      <td>2019</td>\n",
       "      <td>VERY WEAK</td>\n",
       "    </tr>\n",
       "    <tr>\n",
       "      <th>United States</th>\n",
       "      <td>12.1</td>\n",
       "      <td>2020</td>\n",
       "      <td>VERY WEAK</td>\n",
       "    </tr>\n",
       "    <tr>\n",
       "      <th>Mexico</th>\n",
       "      <td>10.4</td>\n",
       "      <td>2019</td>\n",
       "      <td>VERY WEAK</td>\n",
       "    </tr>\n",
       "    <tr>\n",
       "      <th>Costa Rica[b]</th>\n",
       "      <td>10.3</td>\n",
       "      <td>2019</td>\n",
       "      <td>VERY WEAK</td>\n",
       "    </tr>\n",
       "    <tr>\n",
       "      <th>Turkey</th>\n",
       "      <td>8.5</td>\n",
       "      <td>2019</td>\n",
       "      <td>VERY WEAK</td>\n",
       "    </tr>\n",
       "  </tbody>\n",
       "</table>\n",
       "</div>"
      ],
      "text/plain": [
       "                 Coverage (%)  Year Unionization\n",
       "Country                                         \n",
       "Italy                   100.0  2019  VERY STRONG\n",
       "Austria                  98.0  2019  VERY STRONG\n",
       "France                   98.0  2018  VERY STRONG\n",
       "Belgium                  96.0  2019  VERY STRONG\n",
       "Iceland                  90.0  2019  VERY STRONG\n",
       "Finland                  88.8  2017  VERY STRONG\n",
       "Sweden                   88.0  2018  VERY STRONG\n",
       "Denmark                  82.0  2018  VERY STRONG\n",
       "Spain                    80.1  2018  VERY STRONG\n",
       "Slovenia                 78.6  2017       STRONG\n",
       "Portugal                 77.2  2021       STRONG\n",
       "Netherlands              75.6  2019       STRONG\n",
       "Norway                   69.0  2017       STRONG\n",
       "Australia                61.2  2018       STRONG\n",
       "Luxembourg               56.9  2018      NEUTRAL\n",
       "Germany                  54.0  2018      NEUTRAL\n",
       "Switzerland              45.0  2018      NEUTRAL\n",
       "Czech Republic           34.7  2019         WEAK\n",
       "Ireland                  34.0  2017         WEAK\n",
       "Canada                   31.3  2020         WEAK\n",
       "Latvia                   27.1  2018         WEAK\n",
       "United Kingdom           26.9  2019         WEAK\n",
       "Lithuania                26.6  2021         WEAK\n",
       "Israel                   26.1  2012         WEAK\n",
       "Slovak Republic          24.4  2015         WEAK\n",
       "Hungary                  21.8  2019         WEAK\n",
       "Chile                    20.4  2018         WEAK\n",
       "Estonia                  19.1  2021    VERY WEAK\n",
       "New Zealand              18.6  2020    VERY WEAK\n",
       "Japan                    16.8  2019    VERY WEAK\n",
       "Colombia                 15.7  2016    VERY WEAK\n",
       "South Korea              14.8  2018    VERY WEAK\n",
       "Greece                   14.2  2017    VERY WEAK\n",
       "Poland                   13.4  2019    VERY WEAK\n",
       "United States            12.1  2020    VERY WEAK\n",
       "Mexico                   10.4  2019    VERY WEAK\n",
       "Costa Rica[b]            10.3  2019    VERY WEAK\n",
       "Turkey                    8.5  2019    VERY WEAK"
      ]
     },
     "execution_count": 18,
     "metadata": {},
     "output_type": "execute_result"
    }
   ],
   "source": [
    "# Create a classification feature based on bins of Coverage (%) feature\n",
    "cac_df['Unionization'] = pd.cut(cac_df['Coverage (%)'], range(0, 105, 20), labels=['VERY WEAK', 'WEAK', 'NEUTRAL', 'STRONG', 'VERY STRONG'])\n",
    "cac_df"
   ]
  },
  {
   "cell_type": "code",
   "execution_count": 19,
   "metadata": {},
   "outputs": [
    {
     "data": {
      "text/plain": [
       "<seaborn.axisgrid.FacetGrid at 0x354c7b5e0>"
      ]
     },
     "execution_count": 19,
     "metadata": {},
     "output_type": "execute_result"
    },
    {
     "data": {
      "image/png": "[encoded data removed]",
      "text/plain": [
       "<Figure size 648.625x500 with 1 Axes>"
      ]
     },
     "metadata": {},
     "output_type": "display_data"
    }
   ],
   "source": [
    "# Visualize the categories\n",
    "sns.displot(data=cac_df, x=cac_df['Coverage (%)'], binwidth=20, hue=cac_df['Unionization'])"
   ]
  },
  {
   "cell_type": "markdown",
   "metadata": {},
   "source": [
    "### Retrieve Billionaires by Country\n",
    "\n",
    "Now that we have a unionization, let's scrape [billionaire data from Wikipedia](https://en.wikipedia.org/wiki/List_of_countries_by_number_of_billionaires) for merging with the unionization data."
   ]
  },
  {
   "cell_type": "code",
   "execution_count": 20,
   "metadata": {},
   "outputs": [
    {
     "data": {
      "text/plain": [
       "['<tr>\\n<th>Rank\\n</th>\\n<th>Rank per <br/> capita\\n</th>\\n<th>Country/Territory\\n</th>\\n<th>Billionaires\\n</th>\\n<th><abbr title=\"Billionaires per million people\">Rate</abbr>\\n</th></tr>',\n",
       " '<tr>\\n<th>\\n</th>\\n<th>-\\n</th>\\n<td><b><span class=\"flagicon\" style=\"padding-left:25px;\">\\xa0</span>World</b></td>\\n<td align=\"center\">2,781</td>\\n<td align=\"center\">0.343\\n</td></tr>',\n",
       " '<tr>\\n<th>1\\n</th>\\n<th>11\\n</th>\\n<td><span class=\"flagicon\"><span class=\"mw-image-border\" typeof=\"mw:File\"><span><img alt=\"\" class=\"mw-file-element\" data-file-height=\"650\" data-file-width=\"1235\" decoding=\"async\" height=\"12\" src=\"//upload.wikimedia.org/wikipedia/en/thumb/a/a4/Flag_of_the_United_States.svg/40px-Flag_of_the_United_States.svg.png\" srcset=\"//upload.wikimedia.org/wikipedia/en/thumb/a/a4/Flag_of_the_United_States.svg/60px-Flag_of_the_United_States.svg.png 2x\" width=\"23\"/></span></span>\\xa0</span><a href=\"/wiki/United_States\" title=\"United States\">United States</a></td>\\n<td align=\"center\">813</td>\\n<td align=\"center\">2.420\\n</td></tr>',\n",
       " '<tr>\\n<th>2\\n</th>\\n<th>53\\n</th>\\n<td><span class=\"flagicon\"><span class=\"mw-image-border\" typeof=\"mw:File\"><span><img alt=\"\" class=\"mw-file-element\" data-file-height=\"600\" data-file-width=\"900\" decoding=\"async\" height=\"15\" src=\"//upload.wikimedia.org/wikipedia/commons/thumb/f/fa/Flag_of_the_People%27s_Republic_of_China.svg/23px-Flag_of_the_People%27s_Republic_of_China.svg.png\" srcset=\"//upload.wikimedia.org/wikipedia/commons/thumb/f/fa/Flag_of_the_People%27s_Republic_of_China.svg/35px-Flag_of_the_People%27s_Republic_of_China.svg.png 1.5x, //upload.wikimedia.org/wikipedia/commons/thumb/f/fa/Flag_of_the_People%27s_Republic_of_China.svg/45px-Flag_of_the_People%27s_Republic_of_China.svg.png 2x\" width=\"23\"/></span></span>\\xa0</span><a href=\"/wiki/China\" title=\"China\">China</a></td>\\n<td align=\"center\">406</td>\\n<td align=\"center\">0.288\\n</td></tr>',\n",
       " '<tr>\\n<th>3\\n</th>\\n<th>58\\n</th>\\n<td><span class=\"flagicon\"><span class=\"mw-image-border\" typeof=\"mw:File\"><span><img alt=\"\" class=\"mw-file-element\" data-file-height=\"600\" data-file-width=\"900\" decoding=\"async\" height=\"15\" src=\"//upload.wikimedia.org/wikipedia/en/thumb/4/41/Flag_of_India.svg/23px-Flag_of_India.svg.png\" srcset=\"//upload.wikimedia.org/wikipedia/en/thumb/4/41/Flag_of_India.svg/35px-Flag_of_India.svg.png 1.5x, //upload.wikimedia.org/wikipedia/en/thumb/4/41/Flag_of_India.svg/45px-Flag_of_India.svg.png 2x\" width=\"23\"/></span></span>\\xa0</span><a href=\"/wiki/India\" title=\"India\">India</a></td>\\n<td align=\"center\">200</td>\\n<td align=\"center\">0.144\\n</td></tr>']"
      ]
     },
     "execution_count": 20,
     "metadata": {},
     "output_type": "execute_result"
    }
   ],
   "source": [
    "# Parse the List of countries by number of billionaires page\n",
    "with requests.get(\"https://en.wikipedia.org/wiki/List_of_countries_by_number_of_billionaires\") as response:\n",
    "    soup = BeautifulSoup(response.content, \"html.parser\")\n",
    "    \n",
    "# Find the table with the data we want\n",
    "b9_table = soup.find(string=' (April 2024)').find_parent(name='table')\n",
    "\n",
    "# Extract the rows of the table as a list of strings\n",
    "rows = [str(row) for row in b9_table.find_all('tr')[:5]]  # Adjust the number 5 to see more or fewer rows\n",
    "rows"
   ]
  },
  {
   "cell_type": "code",
   "execution_count": 21,
   "metadata": {},
   "outputs": [
    {
     "data": {
      "application/vnd.microsoft.datawrangler.viewer.v0+json": {
       "columns": [
        {
         "name": "index",
         "rawType": "int64",
         "type": "integer"
        },
        {
         "name": "Rank",
         "rawType": "float64",
         "type": "float"
        },
        {
         "name": "Rank per capita",
         "rawType": "object",
         "type": "string"
        },
        {
         "name": "Country/Territory",
         "rawType": "object",
         "type": "string"
        },
        {
         "name": "Billionaires",
         "rawType": "int64",
         "type": "integer"
        },
        {
         "name": "Rate",
         "rawType": "float64",
         "type": "float"
        }
       ],
       "conversionMethod": "pd.DataFrame",
       "ref": "49fa2dad-e64f-436e-8c17-6242e8399177",
       "rows": [
        [
         "0",
         null,
         "-",
         "World",
         "2781",
         "0.343"
        ],
        [
         "1",
         "1.0",
         "11",
         "United States",
         "813",
         "2.42"
        ],
        [
         "2",
         "2.0",
         "53",
         "China",
         "406",
         "0.288"
        ],
        [
         "3",
         "3.0",
         "58",
         "India",
         "200",
         "0.144"
        ],
        [
         "4",
         "4.0",
         "17",
         "Germany",
         "132",
         "1.56"
        ],
        [
         "5",
         "5.0",
         "27",
         "Russia",
         "120",
         "0.821"
        ],
        [
         "6",
         "6.0",
         "21",
         "Italy",
         "73",
         "1.239"
        ],
        [
         "7",
         "7.0",
         "45",
         "Brazil",
         "69",
         "0.34"
        ],
        [
         "8",
         "8.0",
         "-",
         "Hong Kong",
         "67",
         "8.936"
        ],
        [
         "9",
         "8.0",
         "16",
         "Canada",
         "67",
         "1.643"
        ],
        [
         "10",
         "10.0",
         "29",
         "United Kingdom",
         "55",
         "0.814"
        ],
        [
         "11",
         "11.0",
         "31",
         "France",
         "53",
         "0.775"
        ],
        [
         "12",
         "12.0",
         "-",
         "Taiwan",
         "51",
         "2.178"
        ],
        [
         "13",
         "13.0",
         "15",
         "Australia",
         "48",
         "1.79"
        ],
        [
         "14",
         "14.0",
         "7",
         "Sweden",
         "43",
         "4.075"
        ],
        [
         "15",
         "15.0",
         "6",
         "Switzerland",
         "41",
         "4.591"
        ],
        [
         "16",
         "15.0",
         "47",
         "Japan",
         "41",
         "0.331"
        ],
        [
         "17",
         "17.0",
         "5",
         "Singapore",
         "39",
         "6.591"
        ],
        [
         "18",
         "18.0",
         "9",
         "Israel",
         "36",
         "3.649"
        ],
        [
         "19",
         "18.0",
         "35",
         "South Korea",
         "36",
         "0.702"
        ],
        [
         "20",
         "20.0",
         "61",
         "Indonesia",
         "35",
         "0.125"
        ],
        [
         "21",
         "21.0",
         "36",
         "Spain",
         "29",
         "0.597"
        ],
        [
         "22",
         "22.0",
         "48",
         "Turkey",
         "27",
         "0.316"
        ],
        [
         "23",
         "23.0",
         "43",
         "Thailand",
         "26",
         "0.381"
        ],
        [
         "24",
         "24.0",
         "57",
         "Mexico",
         "22",
         "0.17"
        ],
        [
         "25",
         "25.0",
         "40",
         "Malaysia",
         "17",
         "0.509"
        ],
        [
         "26",
         "26.0",
         "59",
         "Philippines",
         "16",
         "0.142"
        ],
        [
         "27",
         "27.0",
         "30",
         "Netherlands",
         "14",
         "0.78"
        ],
        [
         "28",
         "28.0",
         "13",
         "Norway",
         "12",
         "2.162"
        ],
        [
         "29",
         "29.0",
         "23",
         "Czech Republic",
         "11",
         "1.011"
        ],
        [
         "30",
         "29.0",
         "14",
         "Ireland",
         "11",
         "2.083"
        ],
        [
         "31",
         "31.0",
         "4",
         "Cyprus",
         "10",
         "10.892"
        ],
        [
         "32",
         "31.0",
         "25",
         "Greece",
         "10",
         "0.96"
        ],
        [
         "33",
         "31.0",
         "26",
         "Belgium",
         "10",
         "0.847"
        ],
        [
         "34",
         "34.0",
         "24",
         "Austria",
         "9",
         "0.983"
        ],
        [
         "35",
         "34.0",
         "19",
         "Denmark",
         "9",
         "1.51"
        ],
        [
         "36",
         "36.0",
         "56",
         "Poland",
         "8",
         "0.213"
        ],
        [
         "37",
         "37.0",
         "20",
         "Finland",
         "7",
         "1.256"
        ],
        [
         "38",
         "38.0",
         "51",
         "Chile",
         "6",
         "0.301"
        ],
        [
         "39",
         "38.0",
         "52",
         "Kazakhstan",
         "6",
         "0.299"
        ],
        [
         "40",
         "38.0",
         "67",
         "Vietnam",
         "6",
         "0.06"
        ],
        [
         "41",
         "38.0",
         "22",
         "Lebanon",
         "6",
         "1.093"
        ],
        [
         "42",
         "38.0",
         "63",
         "South Africa",
         "6",
         "0.097"
        ],
        [
         "43",
         "38.0",
         "49",
         "Romania",
         "6",
         "0.315"
        ],
        [
         "44",
         "44.0",
         "69",
         "Egypt",
         "5",
         "0.048"
        ],
        [
         "45",
         "44.0",
         "60",
         "Ukraine",
         "5",
         "0.136"
        ],
        [
         "46",
         "44.0",
         "62",
         "Argentina",
         "5",
         "0.107"
        ],
        [
         "47",
         "44.0",
         "39",
         "Hungary",
         "5",
         "0.521"
        ],
        [
         "48",
         "48.0",
         "41",
         "United Arab Emirates",
         "4",
         "0.431"
        ],
        [
         "49",
         "48.0",
         "65",
         "Colombia",
         "4",
         "0.076"
        ]
       ],
       "shape": {
        "columns": 5,
        "rows": 79
       }
      },
      "text/html": [
       "<div>\n",
       "<style scoped>\n",
       "    .dataframe tbody tr th:only-of-type {\n",
       "        vertical-align: middle;\n",
       "    }\n",
       "\n",
       "    .dataframe tbody tr th {\n",
       "        vertical-align: top;\n",
       "    }\n",
       "\n",
       "    .dataframe thead th {\n",
       "        text-align: right;\n",
       "    }\n",
       "</style>\n",
       "<table border=\"1\" class=\"dataframe\">\n",
       "  <thead>\n",
       "    <tr style=\"text-align: right;\">\n",
       "      <th></th>\n",
       "      <th>Rank</th>\n",
       "      <th>Rank per capita</th>\n",
       "      <th>Country/Territory</th>\n",
       "      <th>Billionaires</th>\n",
       "      <th>Rate</th>\n",
       "    </tr>\n",
       "  </thead>\n",
       "  <tbody>\n",
       "    <tr>\n",
       "      <th>0</th>\n",
       "      <td>NaN</td>\n",
       "      <td>-</td>\n",
       "      <td>World</td>\n",
       "      <td>2781</td>\n",
       "      <td>0.343</td>\n",
       "    </tr>\n",
       "    <tr>\n",
       "      <th>1</th>\n",
       "      <td>1.0</td>\n",
       "      <td>11</td>\n",
       "      <td>United States</td>\n",
       "      <td>813</td>\n",
       "      <td>2.420</td>\n",
       "    </tr>\n",
       "    <tr>\n",
       "      <th>2</th>\n",
       "      <td>2.0</td>\n",
       "      <td>53</td>\n",
       "      <td>China</td>\n",
       "      <td>406</td>\n",
       "      <td>0.288</td>\n",
       "    </tr>\n",
       "    <tr>\n",
       "      <th>3</th>\n",
       "      <td>3.0</td>\n",
       "      <td>58</td>\n",
       "      <td>India</td>\n",
       "      <td>200</td>\n",
       "      <td>0.144</td>\n",
       "    </tr>\n",
       "    <tr>\n",
       "      <th>4</th>\n",
       "      <td>4.0</td>\n",
       "      <td>17</td>\n",
       "      <td>Germany</td>\n",
       "      <td>132</td>\n",
       "      <td>1.560</td>\n",
       "    </tr>\n",
       "    <tr>\n",
       "      <th>...</th>\n",
       "      <td>...</td>\n",
       "      <td>...</td>\n",
       "      <td>...</td>\n",
       "      <td>...</td>\n",
       "      <td>...</td>\n",
       "    </tr>\n",
       "    <tr>\n",
       "      <th>74</th>\n",
       "      <td>60.0</td>\n",
       "      <td>75</td>\n",
       "      <td>Bangladesh</td>\n",
       "      <td>1</td>\n",
       "      <td>0.006</td>\n",
       "    </tr>\n",
       "    <tr>\n",
       "      <th>75</th>\n",
       "      <td>60.0</td>\n",
       "      <td>12</td>\n",
       "      <td>Belize</td>\n",
       "      <td>1</td>\n",
       "      <td>2.265</td>\n",
       "    </tr>\n",
       "    <tr>\n",
       "      <th>76</th>\n",
       "      <td>60.0</td>\n",
       "      <td>54</td>\n",
       "      <td>Croatia</td>\n",
       "      <td>1</td>\n",
       "      <td>0.259</td>\n",
       "    </tr>\n",
       "    <tr>\n",
       "      <th>77</th>\n",
       "      <td>60.0</td>\n",
       "      <td>18</td>\n",
       "      <td>Luxembourg</td>\n",
       "      <td>1</td>\n",
       "      <td>1.513</td>\n",
       "    </tr>\n",
       "    <tr>\n",
       "      <th>78</th>\n",
       "      <td>60.0</td>\n",
       "      <td>55</td>\n",
       "      <td>Panama</td>\n",
       "      <td>1</td>\n",
       "      <td>0.246</td>\n",
       "    </tr>\n",
       "  </tbody>\n",
       "</table>\n",
       "<p>79 rows × 5 columns</p>\n",
       "</div>"
      ],
      "text/plain": [
       "    Rank Rank per capita Country/Territory  Billionaires   Rate\n",
       "0    NaN               -             World          2781  0.343\n",
       "1    1.0              11     United States           813  2.420\n",
       "2    2.0              53             China           406  0.288\n",
       "3    3.0              58             India           200  0.144\n",
       "4    4.0              17           Germany           132  1.560\n",
       "..   ...             ...               ...           ...    ...\n",
       "74  60.0              75        Bangladesh             1  0.006\n",
       "75  60.0              12            Belize             1  2.265\n",
       "76  60.0              54           Croatia             1  0.259\n",
       "77  60.0              18        Luxembourg             1  1.513\n",
       "78  60.0              55            Panama             1  0.246\n",
       "\n",
       "[79 rows x 5 columns]"
      ]
     },
     "execution_count": 21,
     "metadata": {},
     "output_type": "execute_result"
    }
   ],
   "source": [
    "# Create dataframe from the table\n",
    "b9_df = pd.concat(pd.read_html(str(b9_table), flavor=\"bs4\"))\n",
    "b9_df"
   ]
  },
  {
   "cell_type": "code",
   "execution_count": 22,
   "metadata": {},
   "outputs": [
    {
     "data": {
      "application/vnd.microsoft.datawrangler.viewer.v0+json": {
       "columns": [
        {
         "name": "Country",
         "rawType": "object",
         "type": "string"
        },
        {
         "name": "Rank",
         "rawType": "float64",
         "type": "float"
        },
        {
         "name": "Rank per capita",
         "rawType": "object",
         "type": "string"
        },
        {
         "name": "Billionaires",
         "rawType": "int64",
         "type": "integer"
        },
        {
         "name": "Rate",
         "rawType": "float64",
         "type": "float"
        }
       ],
       "conversionMethod": "pd.DataFrame",
       "ref": "5f19af74-5305-45dc-8e58-84661f250216",
       "rows": [
        [
         "United States",
         "1.0",
         "11",
         "813",
         "2.42"
        ],
        [
         "China",
         "2.0",
         "53",
         "406",
         "0.288"
        ],
        [
         "India",
         "3.0",
         "58",
         "200",
         "0.144"
        ],
        [
         "Germany",
         "4.0",
         "17",
         "132",
         "1.56"
        ],
        [
         "Russia",
         "5.0",
         "27",
         "120",
         "0.821"
        ],
        [
         "Italy",
         "6.0",
         "21",
         "73",
         "1.239"
        ],
        [
         "Brazil",
         "7.0",
         "45",
         "69",
         "0.34"
        ],
        [
         "Hong Kong",
         "8.0",
         "-",
         "67",
         "8.936"
        ],
        [
         "Canada",
         "8.0",
         "16",
         "67",
         "1.643"
        ],
        [
         "United Kingdom",
         "10.0",
         "29",
         "55",
         "0.814"
        ],
        [
         "France",
         "11.0",
         "31",
         "53",
         "0.775"
        ],
        [
         "Taiwan",
         "12.0",
         "-",
         "51",
         "2.178"
        ],
        [
         "Australia",
         "13.0",
         "15",
         "48",
         "1.79"
        ],
        [
         "Sweden",
         "14.0",
         "7",
         "43",
         "4.075"
        ],
        [
         "Switzerland",
         "15.0",
         "6",
         "41",
         "4.591"
        ],
        [
         "Japan",
         "15.0",
         "47",
         "41",
         "0.331"
        ],
        [
         "Singapore",
         "17.0",
         "5",
         "39",
         "6.591"
        ],
        [
         "Israel",
         "18.0",
         "9",
         "36",
         "3.649"
        ],
        [
         "South Korea",
         "18.0",
         "35",
         "36",
         "0.702"
        ],
        [
         "Indonesia",
         "20.0",
         "61",
         "35",
         "0.125"
        ],
        [
         "Spain",
         "21.0",
         "36",
         "29",
         "0.597"
        ],
        [
         "Turkey",
         "22.0",
         "48",
         "27",
         "0.316"
        ],
        [
         "Thailand",
         "23.0",
         "43",
         "26",
         "0.381"
        ],
        [
         "Mexico",
         "24.0",
         "57",
         "22",
         "0.17"
        ],
        [
         "Malaysia",
         "25.0",
         "40",
         "17",
         "0.509"
        ],
        [
         "Philippines",
         "26.0",
         "59",
         "16",
         "0.142"
        ],
        [
         "Netherlands",
         "27.0",
         "30",
         "14",
         "0.78"
        ],
        [
         "Norway",
         "28.0",
         "13",
         "12",
         "2.162"
        ],
        [
         "Czech Republic",
         "29.0",
         "23",
         "11",
         "1.011"
        ],
        [
         "Ireland",
         "29.0",
         "14",
         "11",
         "2.083"
        ],
        [
         "Cyprus",
         "31.0",
         "4",
         "10",
         "10.892"
        ],
        [
         "Greece",
         "31.0",
         "25",
         "10",
         "0.96"
        ],
        [
         "Belgium",
         "31.0",
         "26",
         "10",
         "0.847"
        ],
        [
         "Austria",
         "34.0",
         "24",
         "9",
         "0.983"
        ],
        [
         "Denmark",
         "34.0",
         "19",
         "9",
         "1.51"
        ],
        [
         "Poland",
         "36.0",
         "56",
         "8",
         "0.213"
        ],
        [
         "Finland",
         "37.0",
         "20",
         "7",
         "1.256"
        ],
        [
         "Chile",
         "38.0",
         "51",
         "6",
         "0.301"
        ],
        [
         "Kazakhstan",
         "38.0",
         "52",
         "6",
         "0.299"
        ],
        [
         "Vietnam",
         "38.0",
         "67",
         "6",
         "0.06"
        ],
        [
         "Lebanon",
         "38.0",
         "22",
         "6",
         "1.093"
        ],
        [
         "South Africa",
         "38.0",
         "63",
         "6",
         "0.097"
        ],
        [
         "Romania",
         "38.0",
         "49",
         "6",
         "0.315"
        ],
        [
         "Egypt",
         "44.0",
         "69",
         "5",
         "0.048"
        ],
        [
         "Ukraine",
         "44.0",
         "60",
         "5",
         "0.136"
        ],
        [
         "Argentina",
         "44.0",
         "62",
         "5",
         "0.107"
        ],
        [
         "Hungary",
         "44.0",
         "39",
         "5",
         "0.521"
        ],
        [
         "United Arab Emirates",
         "48.0",
         "41",
         "4",
         "0.431"
        ],
        [
         "Colombia",
         "48.0",
         "65",
         "4",
         "0.076"
        ],
        [
         "Nigeria",
         "48.0",
         "73",
         "4",
         "0.018"
        ]
       ],
       "shape": {
        "columns": 4,
        "rows": 78
       }
      },
      "text/html": [
       "<div>\n",
       "<style scoped>\n",
       "    .dataframe tbody tr th:only-of-type {\n",
       "        vertical-align: middle;\n",
       "    }\n",
       "\n",
       "    .dataframe tbody tr th {\n",
       "        vertical-align: top;\n",
       "    }\n",
       "\n",
       "    .dataframe thead th {\n",
       "        text-align: right;\n",
       "    }\n",
       "</style>\n",
       "<table border=\"1\" class=\"dataframe\">\n",
       "  <thead>\n",
       "    <tr style=\"text-align: right;\">\n",
       "      <th></th>\n",
       "      <th>Rank</th>\n",
       "      <th>Rank per capita</th>\n",
       "      <th>Billionaires</th>\n",
       "      <th>Rate</th>\n",
       "    </tr>\n",
       "    <tr>\n",
       "      <th>Country</th>\n",
       "      <th></th>\n",
       "      <th></th>\n",
       "      <th></th>\n",
       "      <th></th>\n",
       "    </tr>\n",
       "  </thead>\n",
       "  <tbody>\n",
       "    <tr>\n",
       "      <th>United States</th>\n",
       "      <td>1.0</td>\n",
       "      <td>11</td>\n",
       "      <td>813</td>\n",
       "      <td>2.420</td>\n",
       "    </tr>\n",
       "    <tr>\n",
       "      <th>China</th>\n",
       "      <td>2.0</td>\n",
       "      <td>53</td>\n",
       "      <td>406</td>\n",
       "      <td>0.288</td>\n",
       "    </tr>\n",
       "    <tr>\n",
       "      <th>India</th>\n",
       "      <td>3.0</td>\n",
       "      <td>58</td>\n",
       "      <td>200</td>\n",
       "      <td>0.144</td>\n",
       "    </tr>\n",
       "    <tr>\n",
       "      <th>Germany</th>\n",
       "      <td>4.0</td>\n",
       "      <td>17</td>\n",
       "      <td>132</td>\n",
       "      <td>1.560</td>\n",
       "    </tr>\n",
       "    <tr>\n",
       "      <th>Russia</th>\n",
       "      <td>5.0</td>\n",
       "      <td>27</td>\n",
       "      <td>120</td>\n",
       "      <td>0.821</td>\n",
       "    </tr>\n",
       "    <tr>\n",
       "      <th>...</th>\n",
       "      <td>...</td>\n",
       "      <td>...</td>\n",
       "      <td>...</td>\n",
       "      <td>...</td>\n",
       "    </tr>\n",
       "    <tr>\n",
       "      <th>Bangladesh</th>\n",
       "      <td>60.0</td>\n",
       "      <td>75</td>\n",
       "      <td>1</td>\n",
       "      <td>0.006</td>\n",
       "    </tr>\n",
       "    <tr>\n",
       "      <th>Belize</th>\n",
       "      <td>60.0</td>\n",
       "      <td>12</td>\n",
       "      <td>1</td>\n",
       "      <td>2.265</td>\n",
       "    </tr>\n",
       "    <tr>\n",
       "      <th>Croatia</th>\n",
       "      <td>60.0</td>\n",
       "      <td>54</td>\n",
       "      <td>1</td>\n",
       "      <td>0.259</td>\n",
       "    </tr>\n",
       "    <tr>\n",
       "      <th>Luxembourg</th>\n",
       "      <td>60.0</td>\n",
       "      <td>18</td>\n",
       "      <td>1</td>\n",
       "      <td>1.513</td>\n",
       "    </tr>\n",
       "    <tr>\n",
       "      <th>Panama</th>\n",
       "      <td>60.0</td>\n",
       "      <td>55</td>\n",
       "      <td>1</td>\n",
       "      <td>0.246</td>\n",
       "    </tr>\n",
       "  </tbody>\n",
       "</table>\n",
       "<p>78 rows × 4 columns</p>\n",
       "</div>"
      ],
      "text/plain": [
       "               Rank Rank per capita  Billionaires   Rate\n",
       "Country                                                 \n",
       "United States   1.0              11           813  2.420\n",
       "China           2.0              53           406  0.288\n",
       "India           3.0              58           200  0.144\n",
       "Germany         4.0              17           132  1.560\n",
       "Russia          5.0              27           120  0.821\n",
       "...             ...             ...           ...    ...\n",
       "Bangladesh     60.0              75             1  0.006\n",
       "Belize         60.0              12             1  2.265\n",
       "Croatia        60.0              54             1  0.259\n",
       "Luxembourg     60.0              18             1  1.513\n",
       "Panama         60.0              55             1  0.246\n",
       "\n",
       "[78 rows x 4 columns]"
      ]
     },
     "execution_count": 22,
     "metadata": {},
     "output_type": "execute_result"
    }
   ],
   "source": [
    "#\n",
    "# Cleanup billionaire dataframe\n",
    "#\n",
    "\n",
    "# Drop empties\n",
    "b9_df.dropna(inplace=True)\n",
    "\n",
    "# Rename columns\n",
    "b9_df.rename(columns={'Country/Territory': 'Country'}, inplace=True)\n",
    "\n",
    "# Set Country as index\n",
    "b9_df.set_index('Country', inplace=True)\n",
    "\n",
    "b9_df"
   ]
  },
  {
   "cell_type": "markdown",
   "metadata": {},
   "source": [
    "### Merge Data and Exploratory Analsis\n",
    "\n",
    "Now let's merge the data by country, sort on billionaires per capita, and look at the top 10 countries."
   ]
  },
  {
   "cell_type": "code",
   "execution_count": 25,
   "metadata": {},
   "outputs": [
    {
     "data": {
      "application/vnd.microsoft.datawrangler.viewer.v0+json": {
       "columns": [
        {
         "name": "Country",
         "rawType": "object",
         "type": "string"
        },
        {
         "name": "Coverage (%)",
         "rawType": "float64",
         "type": "float"
        },
        {
         "name": "Year",
         "rawType": "int64",
         "type": "integer"
        },
        {
         "name": "Unionization",
         "rawType": "category",
         "type": "unknown"
        },
        {
         "name": "Rank",
         "rawType": "float64",
         "type": "float"
        },
        {
         "name": "Rank per capita",
         "rawType": "object",
         "type": "string"
        },
        {
         "name": "Billionaires",
         "rawType": "int64",
         "type": "integer"
        },
        {
         "name": "Rate",
         "rawType": "float64",
         "type": "float"
        }
       ],
       "conversionMethod": "pd.DataFrame",
       "ref": "85faa6eb-4b16-4bb7-a5e6-6bd28ba1659f",
       "rows": [
        [
         "United States",
         "12.1",
         "2020",
         "VERY WEAK",
         "1.0",
         "11",
         "813",
         "2.42"
        ],
        [
         "Germany",
         "54.0",
         "2018",
         "NEUTRAL",
         "4.0",
         "17",
         "132",
         "1.56"
        ],
        [
         "Italy",
         "100.0",
         "2019",
         "VERY STRONG",
         "6.0",
         "21",
         "73",
         "1.239"
        ],
        [
         "Canada",
         "31.3",
         "2020",
         "WEAK",
         "8.0",
         "16",
         "67",
         "1.643"
        ],
        [
         "United Kingdom",
         "26.9",
         "2019",
         "WEAK",
         "10.0",
         "29",
         "55",
         "0.814"
        ],
        [
         "France",
         "98.0",
         "2018",
         "VERY STRONG",
         "11.0",
         "31",
         "53",
         "0.775"
        ],
        [
         "Australia",
         "61.2",
         "2018",
         "STRONG",
         "13.0",
         "15",
         "48",
         "1.79"
        ],
        [
         "Sweden",
         "88.0",
         "2018",
         "VERY STRONG",
         "14.0",
         "7",
         "43",
         "4.075"
        ],
        [
         "Japan",
         "16.8",
         "2019",
         "VERY WEAK",
         "15.0",
         "47",
         "41",
         "0.331"
        ],
        [
         "Switzerland",
         "45.0",
         "2018",
         "NEUTRAL",
         "15.0",
         "6",
         "41",
         "4.591"
        ]
       ],
       "shape": {
        "columns": 7,
        "rows": 10
       }
      },
      "text/html": [
       "<div>\n",
       "<style scoped>\n",
       "    .dataframe tbody tr th:only-of-type {\n",
       "        vertical-align: middle;\n",
       "    }\n",
       "\n",
       "    .dataframe tbody tr th {\n",
       "        vertical-align: top;\n",
       "    }\n",
       "\n",
       "    .dataframe thead th {\n",
       "        text-align: right;\n",
       "    }\n",
       "</style>\n",
       "<table border=\"1\" class=\"dataframe\">\n",
       "  <thead>\n",
       "    <tr style=\"text-align: right;\">\n",
       "      <th></th>\n",
       "      <th>Coverage (%)</th>\n",
       "      <th>Year</th>\n",
       "      <th>Unionization</th>\n",
       "      <th>Rank</th>\n",
       "      <th>Rank per capita</th>\n",
       "      <th>Billionaires</th>\n",
       "      <th>Rate</th>\n",
       "    </tr>\n",
       "    <tr>\n",
       "      <th>Country</th>\n",
       "      <th></th>\n",
       "      <th></th>\n",
       "      <th></th>\n",
       "      <th></th>\n",
       "      <th></th>\n",
       "      <th></th>\n",
       "      <th></th>\n",
       "    </tr>\n",
       "  </thead>\n",
       "  <tbody>\n",
       "    <tr>\n",
       "      <th>United States</th>\n",
       "      <td>12.1</td>\n",
       "      <td>2020</td>\n",
       "      <td>VERY WEAK</td>\n",
       "      <td>1.0</td>\n",
       "      <td>11</td>\n",
       "      <td>813</td>\n",
       "      <td>2.420</td>\n",
       "    </tr>\n",
       "    <tr>\n",
       "      <th>Germany</th>\n",
       "      <td>54.0</td>\n",
       "      <td>2018</td>\n",
       "      <td>NEUTRAL</td>\n",
       "      <td>4.0</td>\n",
       "      <td>17</td>\n",
       "      <td>132</td>\n",
       "      <td>1.560</td>\n",
       "    </tr>\n",
       "    <tr>\n",
       "      <th>Italy</th>\n",
       "      <td>100.0</td>\n",
       "      <td>2019</td>\n",
       "      <td>VERY STRONG</td>\n",
       "      <td>6.0</td>\n",
       "      <td>21</td>\n",
       "      <td>73</td>\n",
       "      <td>1.239</td>\n",
       "    </tr>\n",
       "    <tr>\n",
       "      <th>Canada</th>\n",
       "      <td>31.3</td>\n",
       "      <td>2020</td>\n",
       "      <td>WEAK</td>\n",
       "      <td>8.0</td>\n",
       "      <td>16</td>\n",
       "      <td>67</td>\n",
       "      <td>1.643</td>\n",
       "    </tr>\n",
       "    <tr>\n",
       "      <th>United Kingdom</th>\n",
       "      <td>26.9</td>\n",
       "      <td>2019</td>\n",
       "      <td>WEAK</td>\n",
       "      <td>10.0</td>\n",
       "      <td>29</td>\n",
       "      <td>55</td>\n",
       "      <td>0.814</td>\n",
       "    </tr>\n",
       "    <tr>\n",
       "      <th>France</th>\n",
       "      <td>98.0</td>\n",
       "      <td>2018</td>\n",
       "      <td>VERY STRONG</td>\n",
       "      <td>11.0</td>\n",
       "      <td>31</td>\n",
       "      <td>53</td>\n",
       "      <td>0.775</td>\n",
       "    </tr>\n",
       "    <tr>\n",
       "      <th>Australia</th>\n",
       "      <td>61.2</td>\n",
       "      <td>2018</td>\n",
       "      <td>STRONG</td>\n",
       "      <td>13.0</td>\n",
       "      <td>15</td>\n",
       "      <td>48</td>\n",
       "      <td>1.790</td>\n",
       "    </tr>\n",
       "    <tr>\n",
       "      <th>Sweden</th>\n",
       "      <td>88.0</td>\n",
       "      <td>2018</td>\n",
       "      <td>VERY STRONG</td>\n",
       "      <td>14.0</td>\n",
       "      <td>7</td>\n",
       "      <td>43</td>\n",
       "      <td>4.075</td>\n",
       "    </tr>\n",
       "    <tr>\n",
       "      <th>Japan</th>\n",
       "      <td>16.8</td>\n",
       "      <td>2019</td>\n",
       "      <td>VERY WEAK</td>\n",
       "      <td>15.0</td>\n",
       "      <td>47</td>\n",
       "      <td>41</td>\n",
       "      <td>0.331</td>\n",
       "    </tr>\n",
       "    <tr>\n",
       "      <th>Switzerland</th>\n",
       "      <td>45.0</td>\n",
       "      <td>2018</td>\n",
       "      <td>NEUTRAL</td>\n",
       "      <td>15.0</td>\n",
       "      <td>6</td>\n",
       "      <td>41</td>\n",
       "      <td>4.591</td>\n",
       "    </tr>\n",
       "  </tbody>\n",
       "</table>\n",
       "</div>"
      ],
      "text/plain": [
       "                Coverage (%)  Year Unionization  Rank Rank per capita  \\\n",
       "Country                                                                 \n",
       "United States           12.1  2020    VERY WEAK   1.0              11   \n",
       "Germany                 54.0  2018      NEUTRAL   4.0              17   \n",
       "Italy                  100.0  2019  VERY STRONG   6.0              21   \n",
       "Canada                  31.3  2020         WEAK   8.0              16   \n",
       "United Kingdom          26.9  2019         WEAK  10.0              29   \n",
       "France                  98.0  2018  VERY STRONG  11.0              31   \n",
       "Australia               61.2  2018       STRONG  13.0              15   \n",
       "Sweden                  88.0  2018  VERY STRONG  14.0               7   \n",
       "Japan                   16.8  2019    VERY WEAK  15.0              47   \n",
       "Switzerland             45.0  2018      NEUTRAL  15.0               6   \n",
       "\n",
       "                Billionaires   Rate  \n",
       "Country                              \n",
       "United States            813  2.420  \n",
       "Germany                  132  1.560  \n",
       "Italy                     73  1.239  \n",
       "Canada                    67  1.643  \n",
       "United Kingdom            55  0.814  \n",
       "France                    53  0.775  \n",
       "Australia                 48  1.790  \n",
       "Sweden                    43  4.075  \n",
       "Japan                     41  0.331  \n",
       "Switzerland               41  4.591  "
      ]
     },
     "execution_count": 25,
     "metadata": {},
     "output_type": "execute_result"
    }
   ],
   "source": [
    "df = cac_df.merge(b9_df, left_index=True, right_index=True)\n",
    "df.sort_values('Billionaires', ascending=False).head(10)"
   ]
  },
  {
   "cell_type": "code",
   "execution_count": 27,
   "metadata": {},
   "outputs": [
    {
     "data": {
      "application/vnd.microsoft.datawrangler.viewer.v0+json": {
       "columns": [
        {
         "name": "Country",
         "rawType": "object",
         "type": "string"
        },
        {
         "name": "Coverage (%)",
         "rawType": "float64",
         "type": "float"
        },
        {
         "name": "Year",
         "rawType": "int64",
         "type": "integer"
        },
        {
         "name": "Unionization",
         "rawType": "category",
         "type": "unknown"
        },
        {
         "name": "Rank",
         "rawType": "float64",
         "type": "float"
        },
        {
         "name": "Rank per capita",
         "rawType": "object",
         "type": "string"
        },
        {
         "name": "Billionaires",
         "rawType": "int64",
         "type": "integer"
        },
        {
         "name": "Rate",
         "rawType": "float64",
         "type": "float"
        }
       ],
       "conversionMethod": "pd.DataFrame",
       "ref": "2a043bfe-24de-4a38-bce8-47446b65631d",
       "rows": [
        [
         "United States",
         "12.1",
         "2020",
         "VERY WEAK",
         "1.0",
         "11",
         "813",
         "2.42"
        ],
        [
         "Germany",
         "54.0",
         "2018",
         "NEUTRAL",
         "4.0",
         "17",
         "132",
         "1.56"
        ],
        [
         "Italy",
         "100.0",
         "2019",
         "VERY STRONG",
         "6.0",
         "21",
         "73",
         "1.239"
        ],
        [
         "Canada",
         "31.3",
         "2020",
         "WEAK",
         "8.0",
         "16",
         "67",
         "1.643"
        ],
        [
         "United Kingdom",
         "26.9",
         "2019",
         "WEAK",
         "10.0",
         "29",
         "55",
         "0.814"
        ],
        [
         "France",
         "98.0",
         "2018",
         "VERY STRONG",
         "11.0",
         "31",
         "53",
         "0.775"
        ],
        [
         "Australia",
         "61.2",
         "2018",
         "STRONG",
         "13.0",
         "15",
         "48",
         "1.79"
        ],
        [
         "Sweden",
         "88.0",
         "2018",
         "VERY STRONG",
         "14.0",
         "7",
         "43",
         "4.075"
        ],
        [
         "Japan",
         "16.8",
         "2019",
         "VERY WEAK",
         "15.0",
         "47",
         "41",
         "0.331"
        ],
        [
         "Switzerland",
         "45.0",
         "2018",
         "NEUTRAL",
         "15.0",
         "6",
         "41",
         "4.591"
        ]
       ],
       "shape": {
        "columns": 7,
        "rows": 10
       }
      },
      "text/html": [
       "<div>\n",
       "<style scoped>\n",
       "    .dataframe tbody tr th:only-of-type {\n",
       "        vertical-align: middle;\n",
       "    }\n",
       "\n",
       "    .dataframe tbody tr th {\n",
       "        vertical-align: top;\n",
       "    }\n",
       "\n",
       "    .dataframe thead th {\n",
       "        text-align: right;\n",
       "    }\n",
       "</style>\n",
       "<table border=\"1\" class=\"dataframe\">\n",
       "  <thead>\n",
       "    <tr style=\"text-align: right;\">\n",
       "      <th></th>\n",
       "      <th>Coverage (%)</th>\n",
       "      <th>Year</th>\n",
       "      <th>Unionization</th>\n",
       "      <th>Rank</th>\n",
       "      <th>Rank per capita</th>\n",
       "      <th>Billionaires</th>\n",
       "      <th>Rate</th>\n",
       "    </tr>\n",
       "    <tr>\n",
       "      <th>Country</th>\n",
       "      <th></th>\n",
       "      <th></th>\n",
       "      <th></th>\n",
       "      <th></th>\n",
       "      <th></th>\n",
       "      <th></th>\n",
       "      <th></th>\n",
       "    </tr>\n",
       "  </thead>\n",
       "  <tbody>\n",
       "    <tr>\n",
       "      <th>United States</th>\n",
       "      <td>12.1</td>\n",
       "      <td>2020</td>\n",
       "      <td>VERY WEAK</td>\n",
       "      <td>1.0</td>\n",
       "      <td>11</td>\n",
       "      <td>813</td>\n",
       "      <td>2.420</td>\n",
       "    </tr>\n",
       "    <tr>\n",
       "      <th>Germany</th>\n",
       "      <td>54.0</td>\n",
       "      <td>2018</td>\n",
       "      <td>NEUTRAL</td>\n",
       "      <td>4.0</td>\n",
       "      <td>17</td>\n",
       "      <td>132</td>\n",
       "      <td>1.560</td>\n",
       "    </tr>\n",
       "    <tr>\n",
       "      <th>Italy</th>\n",
       "      <td>100.0</td>\n",
       "      <td>2019</td>\n",
       "      <td>VERY STRONG</td>\n",
       "      <td>6.0</td>\n",
       "      <td>21</td>\n",
       "      <td>73</td>\n",
       "      <td>1.239</td>\n",
       "    </tr>\n",
       "    <tr>\n",
       "      <th>Canada</th>\n",
       "      <td>31.3</td>\n",
       "      <td>2020</td>\n",
       "      <td>WEAK</td>\n",
       "      <td>8.0</td>\n",
       "      <td>16</td>\n",
       "      <td>67</td>\n",
       "      <td>1.643</td>\n",
       "    </tr>\n",
       "    <tr>\n",
       "      <th>United Kingdom</th>\n",
       "      <td>26.9</td>\n",
       "      <td>2019</td>\n",
       "      <td>WEAK</td>\n",
       "      <td>10.0</td>\n",
       "      <td>29</td>\n",
       "      <td>55</td>\n",
       "      <td>0.814</td>\n",
       "    </tr>\n",
       "    <tr>\n",
       "      <th>France</th>\n",
       "      <td>98.0</td>\n",
       "      <td>2018</td>\n",
       "      <td>VERY STRONG</td>\n",
       "      <td>11.0</td>\n",
       "      <td>31</td>\n",
       "      <td>53</td>\n",
       "      <td>0.775</td>\n",
       "    </tr>\n",
       "    <tr>\n",
       "      <th>Australia</th>\n",
       "      <td>61.2</td>\n",
       "      <td>2018</td>\n",
       "      <td>STRONG</td>\n",
       "      <td>13.0</td>\n",
       "      <td>15</td>\n",
       "      <td>48</td>\n",
       "      <td>1.790</td>\n",
       "    </tr>\n",
       "    <tr>\n",
       "      <th>Sweden</th>\n",
       "      <td>88.0</td>\n",
       "      <td>2018</td>\n",
       "      <td>VERY STRONG</td>\n",
       "      <td>14.0</td>\n",
       "      <td>7</td>\n",
       "      <td>43</td>\n",
       "      <td>4.075</td>\n",
       "    </tr>\n",
       "    <tr>\n",
       "      <th>Japan</th>\n",
       "      <td>16.8</td>\n",
       "      <td>2019</td>\n",
       "      <td>VERY WEAK</td>\n",
       "      <td>15.0</td>\n",
       "      <td>47</td>\n",
       "      <td>41</td>\n",
       "      <td>0.331</td>\n",
       "    </tr>\n",
       "    <tr>\n",
       "      <th>Switzerland</th>\n",
       "      <td>45.0</td>\n",
       "      <td>2018</td>\n",
       "      <td>NEUTRAL</td>\n",
       "      <td>15.0</td>\n",
       "      <td>6</td>\n",
       "      <td>41</td>\n",
       "      <td>4.591</td>\n",
       "    </tr>\n",
       "  </tbody>\n",
       "</table>\n",
       "</div>"
      ],
      "text/plain": [
       "                Coverage (%)  Year Unionization  Rank Rank per capita  \\\n",
       "Country                                                                 \n",
       "United States           12.1  2020    VERY WEAK   1.0              11   \n",
       "Germany                 54.0  2018      NEUTRAL   4.0              17   \n",
       "Italy                  100.0  2019  VERY STRONG   6.0              21   \n",
       "Canada                  31.3  2020         WEAK   8.0              16   \n",
       "United Kingdom          26.9  2019         WEAK  10.0              29   \n",
       "France                  98.0  2018  VERY STRONG  11.0              31   \n",
       "Australia               61.2  2018       STRONG  13.0              15   \n",
       "Sweden                  88.0  2018  VERY STRONG  14.0               7   \n",
       "Japan                   16.8  2019    VERY WEAK  15.0              47   \n",
       "Switzerland             45.0  2018      NEUTRAL  15.0               6   \n",
       "\n",
       "                Billionaires   Rate  \n",
       "Country                              \n",
       "United States            813  2.420  \n",
       "Germany                  132  1.560  \n",
       "Italy                     73  1.239  \n",
       "Canada                    67  1.643  \n",
       "United Kingdom            55  0.814  \n",
       "France                    53  0.775  \n",
       "Australia                 48  1.790  \n",
       "Sweden                    43  4.075  \n",
       "Japan                     41  0.331  \n",
       "Switzerland               41  4.591  "
      ]
     },
     "execution_count": 27,
     "metadata": {},
     "output_type": "execute_result"
    }
   ],
   "source": [
    "df.sort_values('Billionaires', ascending=False).head(10)"
   ]
  },
  {
   "cell_type": "markdown",
   "metadata": {},
   "source": [
    "As we can see, the picture is not quite as clear cut as the AOC's (in)famous quote might lead us to believe. On first blush, it appears that unionized countries produce billionaires at high rates. Sweden, Iceland and Norway with their high unionization rates all beat the U.S. The data don't support the assertion that billionaires are \"taking money\" so far."
   ]
  },
  {
   "cell_type": "markdown",
   "metadata": {},
   "source": [
    "## Footnotes\n",
    "\n",
    "[^1]: https://en.wikipedia.org/wiki/Collective_agreement_coverage"
   ]
  },
  {
   "cell_type": "markdown",
   "metadata": {},
   "source": []
  }
 ],
 "metadata": {
  "kernelspec": {
   "display_name": "jupyter-notebooks-GX6eRVU--py3.10",
   "language": "python",
   "name": "python3"
  },
  "language_info": {
   "codemirror_mode": {
    "name": "ipython",
    "version": 3
   },
   "file_extension": ".py",
   "mimetype": "text/x-python",
   "name": "python",
   "nbconvert_exporter": "python",
   "pygments_lexer": "ipython3",
   "version": "3.10.17"
  },
  "orig_nbformat": 4
 },
 "nbformat": 4,
 "nbformat_minor": 2
}
